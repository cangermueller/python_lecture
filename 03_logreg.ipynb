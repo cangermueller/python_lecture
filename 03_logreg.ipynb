{
 "metadata": {
  "name": "",
  "signature": "sha256:0b6baa0bb2eac7f1ddb0c5decfe22a92aa6910c39fa7b5e8dacd5f39c8f9c9ae"
 },
 "nbformat": 3,
 "nbformat_minor": 0,
 "worksheets": [
  {
   "cells": [
    {
     "cell_type": "heading",
     "level": 1,
     "metadata": {},
     "source": [
      "Logistic regression model"
     ]
    },
    {
     "cell_type": "markdown",
     "metadata": {},
     "source": [
      "<img src='figures/logreg.png' align='center'/>"
     ]
    },
    {
     "cell_type": "heading",
     "level": 2,
     "metadata": {},
     "source": [
      "Likelihood"
     ]
    },
    {
     "cell_type": "markdown",
     "metadata": {},
     "source": [
      "\\begin{align*}\n",
      "    y|x, \\theta \\sim \\text{Bernoulli}(\\sigma(\\theta^T x))\n",
      "\\end{align*}\n",
      "\n",
      "\\begin{align*}\n",
      "    \\sigma(x) = \\frac{1}{1 + \\exp(-\\theta^T x)}\n",
      "\\end{align*}\n",
      "\n",
      "\\begin{align*}\n",
      "    p(y|x, \\theta) &= \\sigma(\\theta^T x)^y * (1 - \\sigma(\\theta^T x))^{1 - y}\\\\\n",
      "                    &= \\frac{\\exp(y\\theta^T x)}{1 + \\exp(\\theta^T x)}\n",
      "\\end{align*}\n",
      "\n",
      "\\begin{align*}\n",
      "    \\log p(y|x, \\theta) = y \\theta^T x - \\log(1 + \\exp(\\theta^T x))\n",
      "\\end{align*}"
     ]
    },
    {
     "cell_type": "heading",
     "level": 2,
     "metadata": {},
     "source": [
      "Prior"
     ]
    },
    {
     "cell_type": "markdown",
     "metadata": {},
     "source": [
      "\\begin{align*}\n",
      "    \\theta \\sim \\mathcal{N}(0, \\lambda^{-1})\n",
      "\\end{align*}\n",
      "\n",
      "\\begin{align*}\n",
      "    \\log p(\\theta) = -\\frac{\\lambda}{2}||\\theta||_2^2 + \\text{const}\n",
      "\\end{align*} "
     ]
    },
    {
     "cell_type": "heading",
     "level": 2,
     "metadata": {},
     "source": [
      "Objective function"
     ]
    },
    {
     "cell_type": "markdown",
     "metadata": {},
     "source": [
      "\\begin{align*}\n",
      "    f(\\theta) = -\\sum_i \\left\\{y^i \\theta^T x^i - \\log(1 + \\exp(\\theta^T x^i))\\right\\} \n",
      "                + \\frac{\\lambda}{2}||\\theta||_2^2\n",
      "\\end{align*}\n",
      "\n",
      "\\begin{align*}\n",
      "    \\frac{\\delta f(\\theta)}{\\delta \\theta_k} &= \n",
      "       -\\sum_i \\left\\{ y^i x^i_k - x^i_k \\frac{\\exp(\\theta^T x^i)}{1 + \\exp(\\theta^T x^i)} \\right\\}\n",
      "        + \\lambda\\theta_k \\\\\n",
      "     &= -\\sum_i x^i_k \\left\\{y^i - \\frac{1}{1 + \\exp(-\\theta^T x^i)} \\right\\}\n",
      "        + \\lambda\\theta_k\n",
      "\\end{align*}"
     ]
    },
    {
     "cell_type": "heading",
     "level": 1,
     "metadata": {},
     "source": [
      "Base class"
     ]
    },
    {
     "cell_type": "code",
     "collapsed": false,
     "input": [
      "import numpy as np\n",
      "import sklearn.metrics as met\n",
      "import sklearn.datasets as ds\n",
      "from scipy.optimize import fmin_bfgs\n",
      "import matplotlib.pyplot as plt"
     ],
     "language": "python",
     "metadata": {},
     "outputs": [],
     "prompt_number": 1
    },
    {
     "cell_type": "code",
     "collapsed": false,
     "input": [
      "%matplotlib inline"
     ],
     "language": "python",
     "metadata": {},
     "outputs": [],
     "prompt_number": 2
    },
    {
     "cell_type": "code",
     "collapsed": false,
     "input": [
      "class LogisticRegressionBase(object):\n",
      "    def __init__(self, X, y):\n",
      "        self.X = X\n",
      "        self.y = y\n",
      "        self.n_samples = self.X.shape[0]\n",
      "        self.n_features = self.X.shape[1]\n",
      "        self.lambda_ = 0.05\n",
      "        \n",
      "    def f(self, theta):\n",
      "        \"\"\" Evaluate objective function f at theta. \"\"\"\n",
      "        return None\n",
      "    \n",
      "    def fprime(self, theta):\n",
      "        \"\"\" Compute first derivative of f at theta. \"\"\"\n",
      "        return None\n",
      "        \n",
      "    def _init_params(self):\n",
      "        \"\"\" Initialize model parameters. \"\"\"\n",
      "        self.theta0 = np.random.randn(self.n_features)\n",
      "        \n",
      "    def fit(self):\n",
      "        \"\"\" Fit theta via gradient descent. \"\"\"\n",
      "        self._init_params()\n",
      "        self.theta = fmin_bfgs(f=self.f, x0=self.theta0,\n",
      "                               fprime=self.fprime)\n",
      "        self._f0 = self.f(self.theta0)\n",
      "        self._f = self.f(self.theta)\n",
      "        print('f(theta0): %.3f' % self._f0)\n",
      "        print('f(theta): %.3f' % self._f)\n",
      "        print('Training accuracy: %.3f' % met.accuracy_score(self.y, self.predict(hard=True)))\n",
      "        \n",
      "        \n",
      "    def sigmoid(self, x):\n",
      "        return 1 / (1 + np.exp(-x))\n",
      "    \n",
      "    def predict(self, X=None, hard=False):\n",
      "        if X is None:\n",
      "            X = self.X\n",
      "        p = self.sigmoid(X.dot(self.theta))\n",
      "        return np.round(p) if hard else p"
     ],
     "language": "python",
     "metadata": {},
     "outputs": [],
     "prompt_number": 3
    },
    {
     "cell_type": "heading",
     "level": 1,
     "metadata": {},
     "source": [
      "Hands on: Implement logistic regression!"
     ]
    },
    {
     "cell_type": "code",
     "collapsed": false,
     "input": [
      "class LogisticRegression(LogisticRegressionBase):\n",
      "    def f(self, theta):\n",
      "        \"\"\" Evaluate objective function f at theta. \n",
      "        \n",
      "        Parameters\n",
      "        ----------\n",
      "        theta: parameter vector (self.n_features)\n",
      "        self.X: design matrix (self.n_samples x self.n_features)\n",
      "        self.y: labels (self.n_features)\n",
      "        self.lambda_: regularization paramter\n",
      "        \"\"\"\n",
      "        X = self.X\n",
      "        y = self.y\n",
      "        lambda_ = self.lambda_\n",
      "        \n",
      "        # TODO: return f(theta)\n",
      "    \n",
      "    def fprime(self, theta):\n",
      "        \"\"\" Compute first derivative of f at theta.\n",
      "        \n",
      "        Parameters\n",
      "        ----------\n",
      "        theta: parameter vector (self.n_features)\n",
      "        self.X: design matrix (self.n_samples x self.n_features)\n",
      "        self.y: labels (self.n_features)\n",
      "        self.lambda_: regularization paramter\n",
      "        \"\"\"\n",
      "        X = self.X\n",
      "        y = self.y\n",
      "        lambda_ = self.lambda_\n",
      "        \n",
      "        # TODO: return fprime(theta)"
     ],
     "language": "python",
     "metadata": {},
     "outputs": [],
     "prompt_number": 4
    },
    {
     "cell_type": "heading",
     "level": 1,
     "metadata": {},
     "source": [
      "Reference Implementation"
     ]
    },
    {
     "cell_type": "code",
     "collapsed": false,
     "input": [
      "class LogisticRegressionReference(LogisticRegressionBase):\n",
      "    def f(self, theta):\n",
      "        z = self.X.dot(theta)\n",
      "        rv = -np.sum(self.y * z - np.log(1 + np.exp(z)))\n",
      "        rv += 0.5 * self.lambda_ * theta.dot(theta)\n",
      "        return rv\n",
      "    \n",
      "    def fprime(self, theta):\n",
      "        div = self.y -  1 / (1 + np.exp(-self.X.dot(theta)))\n",
      "        return -np.sum(self.X * div.reshape(-1, 1), axis=0) + self.lambda_ * theta"
     ],
     "language": "python",
     "metadata": {},
     "outputs": [],
     "prompt_number": 5
    },
    {
     "cell_type": "heading",
     "level": 1,
     "metadata": {},
     "source": [
      "Naive implementation"
     ]
    },
    {
     "cell_type": "code",
     "collapsed": false,
     "input": [
      "class LogisticRegressionNaive(LogisticRegressionBase):\n",
      "    def f(self, theta):\n",
      "        rv = 0.0\n",
      "        for i in range(self.n_samples):\n",
      "            rv -= self.y[i] * self.X[i].dot(theta) - np.log(1 + np.exp(self.X[i].dot(theta)))\n",
      "        rv += self.lambda_ * theta.dot(theta)\n",
      "        return rv\n",
      "    \n",
      "    def fprime(self, theta):\n",
      "        prime = np.empty(theta.size)\n",
      "        for k in range(self.n_features):\n",
      "            prime[k] = 0.0\n",
      "            for i in range(self.n_samples):\n",
      "                prime[k] -= self.y[i] * self.X[i, k] - self.X[i, k] * \\\n",
      "                    np.exp(theta.dot(self.X[i])) / (1 + np.exp(theta.dot(self.X[i])))\n",
      "                prime[k] += self.lambda_ * theta[k]\n",
      "        return prime"
     ],
     "language": "python",
     "metadata": {},
     "outputs": [],
     "prompt_number": 14
    },
    {
     "cell_type": "heading",
     "level": 1,
     "metadata": {},
     "source": [
      "Evaluation"
     ]
    },
    {
     "cell_type": "heading",
     "level": 2,
     "metadata": {},
     "source": [
      "Data"
     ]
    },
    {
     "cell_type": "code",
     "collapsed": false,
     "input": [
      "np.random.seed(0)\n",
      "n_samples = 10000\n",
      "n_features = 100\n",
      "X, y = ds.make_classification(n_samples=n_samples, \n",
      "                           n_features=n_features,\n",
      "                           n_informative=int(n_features / 2))"
     ],
     "language": "python",
     "metadata": {},
     "outputs": [],
     "prompt_number": 15
    },
    {
     "cell_type": "heading",
     "level": 2,
     "metadata": {},
     "source": [
      "Results"
     ]
    },
    {
     "cell_type": "code",
     "collapsed": false,
     "input": [
      "lr = LogisticRegressionReference(X, y)\n",
      "lr.fit()"
     ],
     "language": "python",
     "metadata": {},
     "outputs": [
      {
       "output_type": "stream",
       "stream": "stdout",
       "text": [
        "Warning: Desired error not necessarily achieved due to precision loss.\n",
        "         Current function value: 4042.373548\n",
        "         Iterations: 150\n",
        "         Function evaluations: 244\n",
        "         Gradient evaluations: 243\n",
        "f(theta0): 136216.795\n",
        "f(theta): 4042.374\n",
        "Training accuracy: 0.820\n"
       ]
      }
     ],
     "prompt_number": 17
    },
    {
     "cell_type": "code",
     "collapsed": false,
     "input": [
      "print('Accuracy: %.3f' % (met.accuracy_score(lr.y, lr.predict(hard=True))))\n",
      "print('AUC: %.3f' % (met.roc_auc_score(lr.y, lr.predict())))"
     ],
     "language": "python",
     "metadata": {},
     "outputs": [
      {
       "output_type": "stream",
       "stream": "stdout",
       "text": [
        "Accuracy: 0.820\n",
        "AUC: 0.900\n"
       ]
      }
     ],
     "prompt_number": 18
    },
    {
     "cell_type": "code",
     "collapsed": false,
     "input": [
      "fpr, tpr, thr = met.roc_curve(lr.y, lr.predict())\n",
      "fig, ax = plt.subplots(figsize=(10, 7))\n",
      "ax.plot(fpr, tpr, linewidth=3)\n",
      "ax.set_xlabel('False positive rate')\n",
      "ax.set_ylabel('True positive rate')\n",
      "ax.grid()"
     ],
     "language": "python",
     "metadata": {},
     "outputs": [
      {
       "metadata": {},
       "output_type": "display_data",
       "png": "[encoded data removed]",
       "text": [
        "<matplotlib.figure.Figure at 0x111c42630>"
       ]
      }
     ],
     "prompt_number": 19
    }
   ],
   "metadata": {}
  }
 ]
}